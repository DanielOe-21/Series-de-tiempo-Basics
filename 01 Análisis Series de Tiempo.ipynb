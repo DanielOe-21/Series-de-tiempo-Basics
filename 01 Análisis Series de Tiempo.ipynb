{
 "cells": [
  {
   "cell_type": "markdown",
   "metadata": {},
   "source": [
    "# Análisis de Series de Tiempo"
   ]
  },
  {
   "cell_type": "code",
   "execution_count": null,
   "metadata": {},
   "outputs": [],
   "source": [
    "import numpy as np\n",
    "import pandas as pd\n",
    "import matplotlib.pyplot as plt\n",
    "import yfinance as yf\n",
    "pd.core.common.is_list_like = pd.api.types.is_list_like\n",
    "from pandas_datareader import data as pdr\n",
    "from datetime import datetime\n",
    "from sklearn.linear_model import LinearRegression\n",
    "pd.plotting.register_matplotlib_converters()\n",
    "yf.pdr_override()"
   ]
  },
  {
   "cell_type": "markdown",
   "metadata": {},
   "source": [
    "## ¿Qué es una serie de tiempo?\n",
    "\n",
    "Una serie de tiempo es una secuencia de observaciones sobre intervalos de tiempo separados de manera regular. Por ejemplo:\n",
    "\n",
    "- Las tasas mensuales de desempleo durante los cinco años previos\n",
    "- La producción diaria en una planta de manufactura durante un mes\n",
    "- La población década por década de un estado en el siglo anterior\n",
    "- El precio de un activo durante siete años\n",
    "\n"
   ]
  },
  {
   "cell_type": "markdown",
   "metadata": {},
   "source": [
    "Primero se declaran los activos a analizar, en este caso será sólo 1, además de indicar fecha de inicio y fecha final:"
   ]
  },
  {
   "cell_type": "code",
   "execution_count": null,
   "metadata": {},
   "outputs": [],
   "source": [
    "assets = [\"FB\"]\n",
    "start_date = \"2013-01-01\"\n",
    "end_date = \"2021-01-01\""
   ]
  },
  {
   "cell_type": "markdown",
   "metadata": {},
   "source": [
    "Se obtienen los precios de cierre de Yahoo Finanzas y se acomodan en el DataFrame"
   ]
  },
  {
   "cell_type": "code",
   "execution_count": null,
   "metadata": {},
   "outputs": [],
   "source": [
    "df=pd.DataFrame()\n",
    "for asset in assets:\n",
    "    df_asset = pdr.get_data_yahoo(asset, start=start_date, end=end_date)[\"Adj Close\"]#El activo se conecta a Yahoo y hace lectura\n",
    "    df_asset = df_asset.to_frame(name=asset) #Descarga la información\n",
    "    df = pd.concat([df, df_asset], axis=1, sort=False) #al data frame se le agrega el nuevo activo"
   ]
  },
  {
   "cell_type": "code",
   "execution_count": null,
   "metadata": {},
   "outputs": [],
   "source": [
    "df.head()"
   ]
  },
  {
   "cell_type": "code",
   "execution_count": null,
   "metadata": {},
   "outputs": [],
   "source": [
    "df.reset_index(inplace = True)\n",
    "df.rename(columns = {'index': 'date','Date':'date'}, inplace = True)\n",
    "df.head()"
   ]
  },
  {
   "cell_type": "code",
   "execution_count": null,
   "metadata": {},
   "outputs": [],
   "source": [
    "df.info()"
   ]
  },
  {
   "cell_type": "code",
   "execution_count": null,
   "metadata": {},
   "outputs": [],
   "source": [
    "#Visualización\n",
    "plt.plot(df['date'], df['FB'])\n",
    "plt.title(\"Precio de cierre de FB. \")\n",
    "plt.ylabel(\"Precio\")\n",
    "plt.xlabel(\"Fecha\")\n",
    "plt.savefig(\"img/Precio de cierre de FB.jpg\")\n",
    "plt.show()"
   ]
  },
  {
   "cell_type": "code",
   "execution_count": null,
   "metadata": {},
   "outputs": [],
   "source": [
    "#¿Que pasa si los datos perdieron su orden?\n",
    "df1 = df.copy()\n",
    "df1 = df1.sample(frac=1).reset_index(drop=True)\n",
    "df1.head()"
   ]
  },
  {
   "cell_type": "code",
   "execution_count": null,
   "metadata": {},
   "outputs": [],
   "source": [
    "plt.plot(df1['date'], df1['FB'])\n",
    "plt.title(\"Precio de cierre de FB.\")\n",
    "plt.ylabel(\"Precio\")\n",
    "plt.xlabel(\"Fecha\")\n",
    "plt.savefig(\"img/Precio de cierre de FB desordenado.jpg\")\n",
    "plt.show()"
   ]
  },
  {
   "cell_type": "markdown",
   "metadata": {},
   "source": [
    "## Componentes de la Serie de Tiempo\n",
    "\n",
    "Una serie de tiempo puede descomponerse en 4 componentes principales:\n",
    "- Nivel (level)\n",
    "- Tendencia (trend)\n",
    "- Estacionalidad (seasonality)\n",
    "- Ruido (noise)\n",
    "\n",
    "Estas componentes pueden ser combinadas de forma aditiva y se definen de la siguiente forma:\n",
    "\n",
    "\\begin{align}\n",
    "y(t) = \\mathrm{nivel} + \\mathrm{tendencia} + \\mathrm{estacionalidad} + \\mathrm{ruido}\n",
    "\\end{align}"
   ]
  },
  {
   "cell_type": "markdown",
   "metadata": {},
   "source": [
    "### Nivel\n",
    "\n",
    "El nivel de una serie temporal corresponde al **promedio aritmético** de todos los datos.\n",
    "\n",
    "El nivel corresponde a un estadístico de los datos que nos da una idea de la escala en donde nos encontramos trabajando.\n",
    "\n",
    "Aunque esta es en si una componente de la serie de tiempo, no utiliza la propiedad del orden temporal en ningún punto (obtenemos el mismo promedio independienmente de como ordenemos los datos).\n",
    "\n",
    "Con esto podemos ver que aunque sí estamos extrayendo información de la serie de tiempo, no estamos haciendo uso del orden intrínseco de esta."
   ]
  },
  {
   "cell_type": "code",
   "execution_count": null,
   "metadata": {},
   "outputs": [],
   "source": [
    "df.head()"
   ]
  },
  {
   "cell_type": "code",
   "execution_count": null,
   "metadata": {},
   "outputs": [],
   "source": [
    "df.info()"
   ]
  },
  {
   "cell_type": "code",
   "execution_count": null,
   "metadata": {},
   "outputs": [],
   "source": [
    "#Vamos a observar como se ve el promedio de nuestros datos\n",
    "plt.plot(df['date'], df['FB'], label = 'Stock Price')\n",
    "plt.plot([min(df.date), max(df.date)], [df['FB'].mean(), df.iloc[:,1].mean()], label = 'Level')\n",
    "plt.xlim([min(df.date), max(df.date)])\n",
    "plt.title(\"Precio de acción con nivel.\")\n",
    "plt.ylabel(\"Precio\")\n",
    "plt.xlabel(\"Fecha\")\n",
    "plt.legend()\n",
    "plt.savefig(\"img/Precio con promedio.jpg\")\n",
    "plt.show()"
   ]
  },
  {
   "cell_type": "code",
   "execution_count": null,
   "metadata": {},
   "outputs": [],
   "source": [
    "#El promedio no depende del tiempo\n",
    "plt.plot(df1['date'], df1['FB'], label = 'Stock Price')\n",
    "plt.plot([min(df1.date), max(df1.date)], [df1['FB'].mean(), df1.iloc[:,1].mean()], label = 'Level')\n",
    "plt.xlim([min(df1.date), max(df1.date)])\n",
    "plt.title(\"Precio de acción a inicio de semana. \")\n",
    "plt.ylabel(\"Precio\")\n",
    "plt.xlabel(\"Fecha\")\n",
    "plt.legend()\n",
    "plt.savefig(\"img/Precio con promedio desordenado.jpg\")\n",
    "plt.show()"
   ]
  },
  {
   "cell_type": "markdown",
   "metadata": {},
   "source": [
    "El promedio es una constante, no varía con respecto al tiempo."
   ]
  },
  {
   "cell_type": "code",
   "execution_count": null,
   "metadata": {},
   "outputs": [],
   "source": [
    "#Ahora... que pasa si removemos el nivel de los datos?\n",
    "plt.plot(df.date, df['FB'] - df['FB'].mean())\n",
    "plt.xlim([min(df.date), max(df.date)])\n",
    "plt.title(\"Precio de acción sin nivel.\")\n",
    "plt.ylabel(\"Precio\")\n",
    "plt.xlabel(\"Fecha\")\n",
    "plt.savefig(\"img/Precio sin promedio.jpg\")\n",
    "plt.show()"
   ]
  },
  {
   "cell_type": "markdown",
   "metadata": {},
   "source": [
    "Conclusión: Aunque el nivel o promedio aritmetico es una propiedad de la serie de tiempo, el hecho de quitarlo no cambia la naturaleza de nuestros datos. Esto es muy parecido a la normalización de los datos pero no se está realizando la división de la desviación estándar de los datos."
   ]
  },
  {
   "cell_type": "markdown",
   "metadata": {},
   "source": [
    "### Tendencia\n",
    "\n",
    "Es una propiedad que, a diferencia del nivel, si describe la evolución global de nuestra variable a través del tiempo; es decir, define si la variable tiende a incrementar o a reducir su cantidad a través del tiempo (idea general, no específica).\n",
    "\n",
    "Aunque la estacionalidad y el ruido pueden cambiar el comportamiento de la serie de forma local (en tiempos chicos), la tendencia es una métrica global de la serie, por lo que al analizarla en periodos largos de tiempo, se puede conocer la tendencia de los datos.\n",
    "\n",
    "Nota: Puede cambiar debido a fenómenos externos y dependiendo del rango de fechas que estemos estudiando.\n",
    "\n",
    "#### Regresión lineal, modelo simple para modelar la tendencia.\n",
    "\n",
    "Es el modelo más sencillo para modelar la tendencia, ya que sólo necesita determinar 2 parámetros para poder realizar predicciones. Asumiendo que el precio de la acción es y(t), podemos proponer un modelo lineal simple de la siguiente forma:\n",
    "\n",
    "\\begin{align}\n",
    "y(t) = at + b\n",
    "\\end{align}\n",
    "\n",
    "Donde:\n",
    "- a y b son constantes por definir\n",
    "- t es el tiempo que se va a pronosticar.\n",
    "\n",
    "Es decir, la única dependencia que tiene el precio de una acción es del tiempo."
   ]
  },
  {
   "cell_type": "code",
   "execution_count": null,
   "metadata": {},
   "outputs": [],
   "source": [
    "#Primero convertir los datos a una x equivalente. Datetime no es tan compatible con sklearn\n",
    "dummy = np.linspace(0,df.shape[0] - 1, df.shape[0]).reshape(-1,1)\n",
    "\n",
    "#Entrena objeto regresor\n",
    "reg = LinearRegression().fit(dummy, df['FB'])"
   ]
  },
  {
   "cell_type": "code",
   "execution_count": null,
   "metadata": {},
   "outputs": [],
   "source": [
    "#Realiza predicciones y evalua el modelo\n",
    "results = reg.predict(dummy)\n",
    "print(reg.score(dummy, df['FB'])) #Es la R2\n",
    "print('El valor de R2 es muy alto')"
   ]
  },
  {
   "cell_type": "code",
   "execution_count": null,
   "metadata": {},
   "outputs": [],
   "source": [
    "#Graficamos la data\n",
    "plt.plot(df['date'], df['FB'])\n",
    "plt.plot(df['date'], results)\n",
    "plt.title(\"Precio de acción con tendencia.\")\n",
    "plt.ylabel(\"Precio\")\n",
    "plt.xlabel(\"Fecha\")\n",
    "plt.savefig(\"img/Precio con tendencia.jpg\")\n",
    "plt.show()"
   ]
  },
  {
   "cell_type": "markdown",
   "metadata": {},
   "source": [
    "Se observa que el modelo describe el comportamiento global de los datos, pues este sigue un comportamiento creciente muy similar al que presentan los datos.\n",
    "\n",
    "Se utilizaron todos los datos para entrenar al modelo, por lo que **no** se tiene una forma de evaluarlo.\n",
    "Para crear un set de entrenamiento y un set de prueba se necesita escoger una fecha de corte. Todos los datos antes de la fecha son de entrenamiento y el resto son de prueba.\n",
    "\n",
    "Esto es técnicamente un pronóstico, dado que estamos modelando la tendencia de nuestros datos en el futuro, utilizando datos de entrenamiento del pasado."
   ]
  },
  {
   "cell_type": "code",
   "execution_count": null,
   "metadata": {},
   "outputs": [],
   "source": [
    "trial_df = df[['date', 'FB']]\n",
    "trial_df.shape #Cantidad de registros en el df"
   ]
  },
  {
   "cell_type": "code",
   "execution_count": null,
   "metadata": {},
   "outputs": [],
   "source": [
    "test_sample = 350 #Declaro que voy a probar con 365 dias\n",
    "train_df = trial_df.iloc[:(trial_df.shape[0] - test_sample),:] #Creo un set de entrenamiento de 0 hasta test_sample\n",
    "test_df = trial_df.iloc[(trial_df.shape[0] - test_sample):,:] #creo un set de prueba con valores de test sample"
   ]
  },
  {
   "cell_type": "code",
   "execution_count": null,
   "metadata": {},
   "outputs": [],
   "source": [
    "print(train_df.shape, test_df.shape) #Checo mis registros que estén bien"
   ]
  },
  {
   "cell_type": "code",
   "execution_count": null,
   "metadata": {},
   "outputs": [],
   "source": [
    "#Primero convertir los datos a una x equivalente.\n",
    "dummy2 = np.linspace(0,train_df.shape[0] - 1, train_df.shape[0]).reshape(-1,1)\n",
    "reg = LinearRegression().fit(dummy2, train_df['FB'])\n",
    "reg.score(dummy2, train_df['FB'])"
   ]
  },
  {
   "cell_type": "code",
   "execution_count": null,
   "metadata": {},
   "outputs": [],
   "source": [
    "dummy3 = np.linspace(train_df.shape[0] - 1, trial_df.shape[0] - 1, test_df.shape[0]).reshape(-1,1)\n",
    "test_results = reg.predict(dummy3)\n",
    "reg.score(dummy3, test_df['FB'])"
   ]
  },
  {
   "cell_type": "code",
   "execution_count": null,
   "metadata": {},
   "outputs": [],
   "source": [
    "plt.plot(dummy3, test_df['FB'], label = \"Datos de prueba\" )\n",
    "plt.plot(dummy3, test_results, label = 'Modelo')\n",
    "plt.title(\"Predicción de precios de la acción. \")\n",
    "plt.ylabel(\"Precio\")\n",
    "plt.xlabel(\"Fecha\")\n",
    "plt.legend()\n",
    "plt.savefig(\"img/Prediccion de precios.jpg\")\n",
    "plt.show()"
   ]
  },
  {
   "cell_type": "code",
   "execution_count": null,
   "metadata": {},
   "outputs": [],
   "source": [
    "results2 = reg.predict(dummy)\n",
    "plt.plot(train_df['date'],train_df['FB'], label = 'Datos de entrenamiento')\n",
    "plt.plot(test_df['date'], test_df['FB'], label = 'Datos de prueba')\n",
    "plt.plot(df['date'], results2, label = 'Modelo predictivo')\n",
    "plt.title(\"Predicción de precios de la acción. \")\n",
    "plt.ylabel(\"Precio\")\n",
    "plt.xlabel(\"Fecha\")\n",
    "plt.legend()\n",
    "plt.savefig(\"img/Precio con prediccion.jpg\")\n",
    "plt.show()"
   ]
  },
  {
   "cell_type": "markdown",
   "metadata": {},
   "source": [
    "¿Que podemos decir de todo esto?\n",
    "\n",
    "- El precio de las acciones de Facebook muestra una tendencia a la alta.\n",
    "- El crecimiento del precio a través de grandes periodos de tiempo sigue un comportamiento lineal.\n",
    "- El modelo parece describir apropiadamente la tendencia.\n",
    "- Las predicciones de los precios de las acciones tiene una varianza muy grande.\n",
    "\n",
    "¿Cómo se puede mejorar? Se debe reducir el 'ruido'\n",
    "\n",
    "### Opción 1: Detectar valores atípicos\n",
    "\n",
    "A simple vista, se observa que existen valores dentro de la serie que se desvían mucho del comportamiento del modelo, se deben a eventos externos y son importantes de considerar cuando se trabaja con predicciones exactas del precio; sin embargo, provocan un ruido a tal grado que puede sesgar el modelo que busca predecir la tendencia.\n",
    "\n",
    "Un **dato atípico** es uno que se aleja de forma extrema del comportamiento establecido de los datos (valores extremos).\n",
    "\n",
    "Para detectarlos, se debe establecer un criterio. En este caso se puede considerar como valor extremo, un valor que se desvía significativamente de la tendencia lineal de los datos."
   ]
  },
  {
   "cell_type": "code",
   "execution_count": null,
   "metadata": {},
   "outputs": [],
   "source": [
    "#Ahora se quita la tendencia a los datos\n",
    "var_analyze = df['FB'] - results2 #results 2 es la línea de la regresión\n",
    "var_stand = pd.Series((var_analyze - var_analyze.mean())/(var_analyze.std())) #Se estandariza variable - promedio / desv std"
   ]
  },
  {
   "cell_type": "code",
   "execution_count": null,
   "metadata": {},
   "outputs": [],
   "source": [
    "plt.plot(var_stand)\n",
    "plt.title(\"Precio de acción sin tendencia.\")\n",
    "plt.savefig(\"Precio sin tendencia.jpg\")\n",
    "plt.savefig(\"img/Precio sin tendencia.jpg\")\n",
    "plt.show()"
   ]
  },
  {
   "cell_type": "code",
   "execution_count": null,
   "metadata": {},
   "outputs": [],
   "source": [
    "threshold = 2.2 #2.2 desviaciones standar\n",
    "df['normalized_open'] = var_stand\n",
    "df['outliers'] = np.abs(var_stand) >= threshold\n",
    "df_out = df[df['outliers'] == 1]"
   ]
  },
  {
   "cell_type": "code",
   "execution_count": null,
   "metadata": {},
   "outputs": [],
   "source": [
    "plt.plot(df['date'], df['FB'])\n",
    "plt.plot(df['date'], results2)\n",
    "plt.scatter(df_out['date'], df_out['FB'], c = 'r')\n",
    "plt.xlim([df['date'].min(), df['date'].max()])\n",
    "plt.title('Valores extremos')\n",
    "plt.xlabel('Fecha')\n",
    "plt.ylabel('Precio de acción (USD)')\n",
    "plt.savefig(\"img/valores extremos.jpg\")\n",
    "plt.show()"
   ]
  },
  {
   "cell_type": "markdown",
   "metadata": {},
   "source": [
    "¿Se marcaron los valores atípicos?"
   ]
  },
  {
   "cell_type": "code",
   "execution_count": null,
   "metadata": {},
   "outputs": [],
   "source": [
    "def remove_outliers(ts, outliers_idx):\n",
    "    ts_clean = ts.copy()\n",
    "    ts_clean.loc[outliers_idx] = np.nan\n",
    "    ts_clean = ts_clean.interpolate(method=\"slinear\")\n",
    "    return ts_clean"
   ]
  },
  {
   "cell_type": "code",
   "execution_count": null,
   "metadata": {},
   "outputs": [],
   "source": [
    "filt = remove_outliers(pd.Series(trial_df[\"FB\"]), df_out.index)"
   ]
  },
  {
   "cell_type": "code",
   "execution_count": null,
   "metadata": {},
   "outputs": [],
   "source": [
    "trial_df['filtered'] = filt"
   ]
  },
  {
   "cell_type": "code",
   "execution_count": null,
   "metadata": {},
   "outputs": [],
   "source": [
    "plt.plot(df['date'], df['FB'], label = 'Datos originales')\n",
    "plt.plot(df['date'], trial_df['filtered'], label = 'Datos sin anomalias')\n",
    "plt.title(\"Predicción de precios de la acción. \")\n",
    "plt.ylabel(\"Precio\")\n",
    "plt.xlabel(\"Fecha\")\n",
    "plt.legend()\n",
    "plt.savefig(\"img/Precio sin valores extremos.jpg\")\n",
    "plt.show()"
   ]
  },
  {
   "cell_type": "code",
   "execution_count": null,
   "metadata": {},
   "outputs": [],
   "source": [
    "test_sample = 350 #Declaro que voy a probar con 365 dias\n",
    "train_df = trial_df.iloc[:(trial_df.shape[0] - test_sample),:] #Creo un set de entrenamiento de 0 hasta test_sample\n",
    "test_df = trial_df.iloc[(trial_df.shape[0] - test_sample):,:] #creo un set de prueba con valores de test sample"
   ]
  },
  {
   "cell_type": "code",
   "execution_count": null,
   "metadata": {},
   "outputs": [],
   "source": [
    "print(train_df.shape, test_df.shape) #Checo mis registros que estén bien"
   ]
  },
  {
   "cell_type": "code",
   "execution_count": null,
   "metadata": {},
   "outputs": [],
   "source": [
    "#Primero convertir los datos a una x equivalente.\n",
    "dummy2 = np.linspace(0,train_df.shape[0] - 1, train_df.shape[0]).reshape(-1,1)\n",
    "reg = LinearRegression().fit(dummy2, train_df['filtered'])\n",
    "reg.score(dummy2, train_df['filtered'])"
   ]
  },
  {
   "cell_type": "code",
   "execution_count": null,
   "metadata": {},
   "outputs": [],
   "source": [
    "dummy3 = np.linspace(train_df.shape[0] - 1, trial_df.shape[0] - 1, test_df.shape[0]).reshape(-1,1)\n",
    "test_results = reg.predict(dummy3)\n",
    "reg.score(dummy3, test_df['filtered'])"
   ]
  },
  {
   "cell_type": "code",
   "execution_count": null,
   "metadata": {},
   "outputs": [],
   "source": [
    "plt.plot(dummy3, test_df['filtered'], label = \"Datos de prueba\" )\n",
    "plt.plot(dummy3, test_results, label = 'Modelo')\n",
    "plt.title(\"Predicción de precios de la acción. \")\n",
    "plt.ylabel(\"Precio\")\n",
    "plt.xlabel(\"Fecha\")\n",
    "plt.legend()\n",
    "plt.savefig(\"img/Prediccion sin val extremos.jpg\")\n",
    "plt.show()"
   ]
  },
  {
   "cell_type": "markdown",
   "metadata": {},
   "source": [
    "Es posible ver que quitar los valores extremos otorga una mejora global al modelo (R^2), sin embargo, todavía queda mucho trabajo por hacer si queremos extraer la tendencia. Por lo tanto, necesitamos una forma de reducir los efectos del ruido y de la estacionalidad para tener un mejor resultado."
   ]
  },
  {
   "cell_type": "markdown",
   "metadata": {},
   "source": [
    "### Opción 2: Quitar el ruido y mejorar la regresión lineal\n",
    "\n",
    "Como se menciona anteriormente, la presencia de *ruido* y *estacionalidad* en los datos puede dificultar la extracción de la verdadera tendencia, además, puede resultar en que un buen modelo termine por ser evaluado de una forma negativa. ¿Que se puede hacer para reducir el ruido dentro de la variable de interés?\n",
    "\n",
    "Usar el promedio: Es una cantidad que busca representar números variados con un solo valor; sin embargo, no se debe confundir con el cálculo del nivel, ya que ese valor es constante a través de la serie de tiempo, mientras que este promedio si varía con respecto al tiempo.\n",
    "\n",
    "Combinando el valor actual con los valores pasados de la serie de tiempo, se puede llegar a reconstruir la tendencia, mientras que el ruido desaparece debido al promedio.\n",
    "\n",
    "Hay diversas formas de realizar este filtrado: El promedio móvil (Simple Moving Average (SMA)) calcula el promedio aritmético de unos pocos valores previos para estimar el nuevo punto que es calculado con la siguiente función.\n",
    "\n",
    "\\begin{align}\n",
    "\\mathrm{MA}_n = \\frac{x_n + x_{n-1} + x_{n-2} + x_{n-3} ..... + x_{n-m+1}}{m}\n",
    "\\end{align}\n",
    "\n",
    "Una ventaja de esta función es que debido a que los valores futuros se calculan con la misma fórmula, se puede utilizar el promedio previo para calcular el valor futuro de la función.\n",
    "\n",
    "\\begin{align}\n",
    "\\mathrm{MA}_{n+1} = \\frac{x_{n+1}}{m} + \\frac{x_n + x_{n-1} + x_{n-2} + x_{n-3} + .... x_{n-m+2}}{m}\\\\\n",
    "\\mathrm{MA}_{n+1} = \\frac{x_{n+1} - x_{n-m+1}}{m} + \\mathrm{MA}_n\n",
    "\\end{align}\n",
    "\n",
    "Por ejemplo, se tienen como valores de la serie de tiempo [0,-0.1, 0.9, 1.5, 1.2, 2.1, 2.3, 2, 2.9, 3], por ahora se asume que la separación entre los valores es la misma.\n",
    "\n",
    "¿Como se realiza el cálculo del SMA?\n",
    "\n",
    "\\begin{align}\n",
    "\\mathrm{MA}_1& = \\frac{-0.1 + 0.0}{2} = -0.05 \\\\\n",
    "\\mathrm{MA}_2& = \\frac{0.9 - 0.0}{2} - 0.05 = 0.40 \\\\\n",
    "\\mathrm{MA}_3& = \\frac{1.5 + 0.1}{2} + 0.40 = 1.20 \\\\\n",
    "\\mathrm{MA}_4& = \\frac{1.2 - 0.9}{2} + 1.20 = 1.35 \\\\\n",
    "\\mathrm{MA}_5& = \\frac{2.1 - 1.5}{2} + 1.35 = 1.65 \\\\\n",
    "\\mathrm{MA}_6& = \\frac{2.3 - 1.2}{2} + 1.65 = 2.20 \\\\\n",
    "\\mathrm{MA}_7& = \\frac{2.0 - 2.1}{2} + 2.20 = 2.15 \\\\\n",
    "\\mathrm{MA}_8& = \\frac{2.9 - 2.3}{2} + 2.15 = 2.45 \\\\\n",
    "\\mathrm{MA}_9& = \\frac{3.0 - 2.0}{2} + 2.45 = 2.95 \n",
    "\\end{align}"
   ]
  },
  {
   "cell_type": "code",
   "execution_count": null,
   "metadata": {},
   "outputs": [],
   "source": [
    "# ¿Que efecto tiene este rolling mean sobre la forma de la data?\n",
    "\n",
    "my_data = pd.Series([0,-0.1, 0.9, 1.5, 1.2, 2.1, 2.3, 2, 2.9, 3])\n",
    "plt.plot(list(range(len(my_data))), my_data , label = 'Datos')\n",
    "plt.plot(list(range(len(my_data))), my_data.rolling(4, center = True).mean(), label = 'SMA') #¿Qué pasa si tomo mas datos?\n",
    "plt.legend()\n",
    "plt.savefig(\"img/Precio con promedio movil.jpg\")\n",
    "plt.show()"
   ]
  },
  {
   "cell_type": "markdown",
   "metadata": {},
   "source": [
    "¿Por qué la línea naranja es más corta?"
   ]
  },
  {
   "cell_type": "code",
   "execution_count": null,
   "metadata": {},
   "outputs": [],
   "source": [
    "print(my_data)"
   ]
  },
  {
   "cell_type": "code",
   "execution_count": null,
   "metadata": {},
   "outputs": [],
   "source": [
    "#Como calcular el rolling mean\n",
    "print(my_data.rolling(2, center = True).mean())"
   ]
  },
  {
   "cell_type": "code",
   "execution_count": null,
   "metadata": {},
   "outputs": [],
   "source": [
    "#Ahora... como se verá con la data de precios de acciones.\n",
    "df['FB_cl'] = df.iloc[:,3] - df.iloc[:, 3].mean()"
   ]
  },
  {
   "cell_type": "code",
   "execution_count": null,
   "metadata": {},
   "outputs": [],
   "source": [
    "#Calculamos el rolling mean\n",
    "close_4 = df['FB'].rolling(4, center = True).mean()"
   ]
  },
  {
   "cell_type": "code",
   "execution_count": null,
   "metadata": {},
   "outputs": [],
   "source": [
    "#y ahora a visualizar\n",
    "fig = plt.figure(figsize=(15,10)) \n",
    "ax = fig.add_subplot(1, 1, 1)\n",
    "ax.plot(df.date, df['FB'], linewidth = 2, c = 'blue', label = 'Datos originales')\n",
    "ax.plot(df.date, close_4, linewidth = 2, c = 'red', label = 'SMA_4')\n",
    "ax.tick_params(axis='both', which='major', labelsize=15)\n",
    "ax.set_title('Trend', fontsize = 18)\n",
    "ax.set_xlabel('Time ', fontsize = 17)\n",
    "ax.set_ylabel('Stock Price', fontsize = 17)\n",
    "plt.legend()\n",
    "plt.savefig(\"img/Precio con promedio movil c.jpg\")\n",
    "plt.show()"
   ]
  },
  {
   "cell_type": "code",
   "execution_count": null,
   "metadata": {},
   "outputs": [],
   "source": [
    "#Que pasa si aumentamos el número de valores a utilizar?\n",
    "close_8 = df['FB'].rolling(8, center = True).mean()\n",
    "close_12 = df['FB'].rolling(12, center = True).mean()\n",
    "close_24 = df['FB'].rolling(24, center = True).mean()"
   ]
  },
  {
   "cell_type": "code",
   "execution_count": null,
   "metadata": {},
   "outputs": [],
   "source": [
    "fig = plt.figure() \n",
    "ax = fig.add_subplot(1, 1, 1)\n",
    "ax.plot(df.date, df['FB'], linewidth = 2, label = 'Datos originales')\n",
    "#ax.plot(df.date, close_8, linewidth = 2, c = 'red', label = 'SMA_8')\n",
    "#ax.plot(df.date, close_12, linewidth = 2, c = 'blue', label = 'SMA_12')\n",
    "ax.plot(df.date, close_24, linewidth = 2, c = 'red', label = 'SMA_24')\n",
    "ax.tick_params(axis='both', which='major')\n",
    "ax.set_title('Trend')\n",
    "ax.set_xlabel('Time ')\n",
    "ax.set_ylabel('Stock Price')\n",
    "plt.legend()\n",
    "plt.savefig(\"img/Precio con promedio movil 24.jpg\")\n",
    "plt.show()"
   ]
  },
  {
   "cell_type": "markdown",
   "metadata": {},
   "source": [
    "Entre más valores se utilizan para el SMA, más se reduce el ruido, pero la señal se ve atrasada y tiene un sesgo hacia precios bajos. Esto se debe a que entre más valores se utilizan para calcular el promedio, más se aleja del valor actual y se crea un gran sesgo hacia el pasado. Esto se puede resolver centrando el SMA."
   ]
  },
  {
   "cell_type": "code",
   "execution_count": null,
   "metadata": {},
   "outputs": [],
   "source": [
    "print(trial_df)"
   ]
  },
  {
   "cell_type": "code",
   "execution_count": null,
   "metadata": {},
   "outputs": [],
   "source": [
    "trial_df_roll = trial_df.copy()\n",
    "trial_df_roll['Rolling'] = trial_df_roll['FB'].rolling(36, center = True).mean()\n",
    "trial_df_roll.head(15)"
   ]
  },
  {
   "cell_type": "code",
   "execution_count": null,
   "metadata": {},
   "outputs": [],
   "source": [
    "trial_df_roll.dropna(axis = 0, inplace = True)"
   ]
  },
  {
   "cell_type": "code",
   "execution_count": null,
   "metadata": {},
   "outputs": [],
   "source": [
    "test_sample = 100\n",
    "train_df = trial_df_roll.iloc[:(trial_df_roll.shape[0] - test_sample),:]\n",
    "test_df = trial_df_roll.iloc[(trial_df_roll.shape[0] - test_sample):,:]"
   ]
  },
  {
   "cell_type": "code",
   "execution_count": null,
   "metadata": {},
   "outputs": [],
   "source": [
    "print(train_df.shape, test_df.shape)"
   ]
  },
  {
   "cell_type": "code",
   "execution_count": null,
   "metadata": {},
   "outputs": [],
   "source": [
    "#Primero tenemos que convertir los datos a una x equivalente.\n",
    "dummy = np.linspace(0,trial_df_roll.shape[0] - 1, trial_df_roll.shape[0]).reshape(-1,1)\n",
    "dummy2 = np.linspace(0,train_df.shape[0] - 1, train_df.shape[0]).reshape(-1,1)\n",
    "reg = LinearRegression().fit(dummy2, train_df['Rolling'])"
   ]
  },
  {
   "cell_type": "code",
   "execution_count": null,
   "metadata": {},
   "outputs": [],
   "source": [
    "dummy3 = np.linspace(train_df.shape[0] - 1, trial_df.shape[0] - 1, test_df.shape[0]).reshape(-1,1)\n",
    "test_results = reg.predict(dummy3)\n",
    "print('El valor de R2 es: {}'.format(reg.score(dummy3, test_df['Rolling'])))"
   ]
  },
  {
   "cell_type": "code",
   "execution_count": null,
   "metadata": {},
   "outputs": [],
   "source": [
    "plt.plot(dummy3, test_df['Rolling'], label = \"Set de Prueba\")\n",
    "plt.plot(dummy3, test_results, label = \"Modelo\")\n",
    "plt.title(\"Predicción de precios de la acción. \")\n",
    "plt.ylabel(\"Precio\")\n",
    "plt.xlabel(\"Fecha\")\n",
    "plt.legend()\n",
    "plt.show()\n",
    "plt.show()"
   ]
  },
  {
   "cell_type": "code",
   "execution_count": null,
   "metadata": {},
   "outputs": [],
   "source": [
    "results2 = reg.predict(dummy)\n",
    "plt.plot(train_df['date'],train_df['Rolling'], label = \"Set de Entrenamiento\")\n",
    "plt.plot(test_df['date'], test_df['Rolling'], label = \"Set de Prueba\")\n",
    "plt.plot(trial_df_roll['date'], results2, label = \"Modelo\")\n",
    "plt.title(\"Predicción de precios de la acción. \")\n",
    "plt.ylabel(\"Precio\")\n",
    "plt.xlabel(\"Fecha\")\n",
    "plt.legend()\n",
    "plt.savefig(\"Precio_RL.jpg\")\n",
    "plt.show()\n",
    "plt.show()"
   ]
  },
  {
   "cell_type": "markdown",
   "metadata": {},
   "source": [
    "El SMA logra quitar las oscilaciones chicas de la señal, pero los valores extremos siguen siendo demasiado para ello.\n",
    "\n",
    "### Opción 3: Combinar las 2 anteriores"
   ]
  },
  {
   "cell_type": "code",
   "execution_count": null,
   "metadata": {},
   "outputs": [],
   "source": [
    "trial_df_combined = trial_df.copy()\n",
    "trial_df_combined['combined'] = trial_df_combined['filtered'].rolling(4, center = True).mean()\n",
    "trial_df_combined.head()"
   ]
  },
  {
   "cell_type": "code",
   "execution_count": null,
   "metadata": {},
   "outputs": [],
   "source": [
    "trial_df_combined.dropna(axis = 0, inplace = True)"
   ]
  },
  {
   "cell_type": "code",
   "execution_count": null,
   "metadata": {},
   "outputs": [],
   "source": [
    "test_sample = 350\n",
    "train_df = trial_df_combined.iloc[:(trial_df_combined.shape[0] - test_sample),:]\n",
    "test_df = trial_df_combined.iloc[(trial_df_combined.shape[0] - test_sample):,:]"
   ]
  },
  {
   "cell_type": "code",
   "execution_count": null,
   "metadata": {},
   "outputs": [],
   "source": [
    "print(train_df.shape, test_df.shape)"
   ]
  },
  {
   "cell_type": "code",
   "execution_count": null,
   "metadata": {},
   "outputs": [],
   "source": [
    "#Primero tenemos que convertir los datos a una x equivalente.\n",
    "dummy = np.linspace(0,trial_df_combined.shape[0] - 1, trial_df_combined.shape[0]).reshape(-1,1)\n",
    "dummy2 = np.linspace(0,train_df.shape[0] - 1, train_df.shape[0]).reshape(-1,1)\n",
    "reg = LinearRegression().fit(dummy2, train_df['combined'])"
   ]
  },
  {
   "cell_type": "code",
   "execution_count": null,
   "metadata": {},
   "outputs": [],
   "source": [
    "dummy3 = np.linspace(train_df.shape[0] - 1, trial_df.shape[0] - 1, test_df.shape[0]).reshape(-1,1)\n",
    "test_results = reg.predict(dummy3)\n",
    "reg.score(dummy3, test_df['combined'])"
   ]
  },
  {
   "cell_type": "code",
   "execution_count": null,
   "metadata": {},
   "outputs": [],
   "source": [
    "print(dummy3.shape, test_df['combined'].shape)"
   ]
  },
  {
   "cell_type": "code",
   "execution_count": null,
   "metadata": {},
   "outputs": [],
   "source": [
    "plt.plot(dummy3, test_df['combined'])\n",
    "plt.plot(dummy3, test_results)\n",
    "plt.show()"
   ]
  },
  {
   "cell_type": "code",
   "execution_count": null,
   "metadata": {},
   "outputs": [],
   "source": []
  }
 ],
 "metadata": {
  "kernelspec": {
   "display_name": "Python 3",
   "language": "python",
   "name": "python3"
  },
  "language_info": {
   "codemirror_mode": {
    "name": "ipython",
    "version": 3
   },
   "file_extension": ".py",
   "mimetype": "text/x-python",
   "name": "python",
   "nbconvert_exporter": "python",
   "pygments_lexer": "ipython3",
   "version": "3.9.7"
  }
 },
 "nbformat": 4,
 "nbformat_minor": 4
}
