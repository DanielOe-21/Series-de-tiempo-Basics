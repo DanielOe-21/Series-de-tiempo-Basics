{
 "cells": [
  {
   "cell_type": "markdown",
   "metadata": {},
   "source": [
    "# Modelos de Series de Tiempo\n",
    "\n",
    "Presentado por Daniel Ortíz\n",
    "\n",
    "**Recapitulando:**\n",
    "\n",
    "El *nivel* de una serie de tiempo es el promedio de los datos sin importar el orden de los mismos, brinda una estimación de los valores con los que se trabaja.\n",
    "\n",
    "La *tendencia* es el comportamiento general de la Serie de Tiempo.\n",
    "\n",
    "El *ruido* son valores que se desvían de ese comportamiento general.\n",
    "\n",
    "Grandes perturbaciones en los datos dificultan las predicciones.\n",
    "\n",
    "Algunas técnicas para evaluar la tendencia de una serie de tiempo con la regresión lineal:\n",
    "\n",
    "- Sólo regresión\n",
    "- Regresión y quitando anomalías (outliers)\n",
    "- Combinada con el promedio móvil"
   ]
  },
  {
   "cell_type": "markdown",
   "metadata": {},
   "source": [
    "### Precio con nivel\n",
    "![Precio con promedio](./graficas/Precio_promedio.jpg)\n",
    "\n",
    "### Precio sin nivel\n",
    "![Precio sin promedio](./graficas/Precio_sin_promedio.jpg)\n",
    "\n",
    "### Precio con tendencia\n",
    "![Precio con tendencia](./graficas/Precio_tendencia.jpg)\n",
    "\n",
    "### Precio sin tendencia\n",
    "![Precio sin tendencia](./graficas/Precio_sin_tendencia.jpg)"
   ]
  },
  {
   "cell_type": "markdown",
   "metadata": {},
   "source": [
    "La línea recta de la regresión lineal no logra capturar la nueva tendencia después de eventos pronunciados\n",
    "\n",
    "![Precio con predicción](./graficas/Precio_RL.jpg)\n",
    "\n",
    "La **regresión lineal** se puede aplicar a todos los datos, pero los **modelos autorregresivos** son exclusivos de series de tiempo, pues aprovechan el orden temporal de los datos para funcionar.\n",
    "\n",
    "Si un valor de una variable en el futuro puede depender de su valor en el pasado, se puede utilizar un modelo autorregresivo.\n",
    "\n",
    "## Modelo Autoregresivo (AR)\n",
    "\n",
    "En el caso de tener una variable dependiente $y$, el modelo autoregresivo se puede expresar como:\n",
    "\n",
    "\\begin{align}\n",
    "y(t_n) = a_0 + a_1 y(t_{n-1}) + a_2y(t_{n-2}) + .... a_m y(t_{n-m})\n",
    "\\end{align}\n",
    "\n",
    "En donde las $a$'s son constantes a definir que corresponden a los pesos del modelo\n",
    "\n",
    "Las $y$'s del lado derecho de la ecuación corresponden a valores previos de la serie \n",
    "\n",
    "Y $m$ es el orden del modelo autoregresivo.\n",
    "\n",
    "Esto se reduce a una regresión lineal múltiple, en donde las variables corresponden a los valores previos de la variable a predecir; por lo tanto, se tiene un modelo que predice el futuro utilizando solamente valores del pasado.\n",
    "\n",
    "Un modelo autocorrelacionado es un modelo de una variable contra sí misma pero con valores del pasado."
   ]
  },
  {
   "cell_type": "markdown",
   "metadata": {},
   "source": [
    "## Modelo Moving Average (MA)\n",
    "\n",
    "El modelo MA es un modelo que realiza una regresión lineal sobre los términos residuales anteriores y se puede escribir de la siguiente forma.\n",
    "\n",
    "\\begin{align}\n",
    "y(t) = \\mu + \\theta_0 \\epsilon_t + \\theta_1 \\epsilon_{t-1} + ... \\theta_m \\epsilon_{t-m}\n",
    "\\end{align}\n",
    "\n",
    "En donde $y$ es el valor a predecir, $\\theta_n$ son las constantes a determinar y $\\epsilon_n$ es el término del error que se utiliza para ajustar el modelo.\n",
    "\n",
    "Este modelo *no* es el rolling mean o el SMA.\n",
    "\n",
    "Este modelo es más complejo que el autorregresivo, debido a que se utilizan los residuos del pasado en vez de los valores del pasado para la predicción, los residuos no están presentes de forma directa en los datos, por lo cual su ajuste requiere de la implementación de métodos no lineales, ya que se necesitan los residuos para calcular el modelo y se necesita el modelo para encontrar los residuos."
   ]
  },
  {
   "cell_type": "code",
   "execution_count": null,
   "metadata": {},
   "outputs": [],
   "source": [
    "#Importación de paquetes\n",
    "import warnings\n",
    "import pickle\n",
    "import seaborn as sns\n",
    "import numpy as np\n",
    "import pandas as pd\n",
    "from datetime import datetime\n",
    "import matplotlib.pyplot as plt\n",
    "from sklearn.metrics import mean_squared_error\n",
    "from sklearn.linear_model import LinearRegression\n",
    "from sklearn.metrics import mean_absolute_error\n",
    "from statsmodels.tsa.arima_model import ARIMA\n",
    "from sklearn.model_selection import ParameterGrid\n",
    "from statsmodels.tsa.arima_model import ARMA\n",
    "from statsmodels.tsa.statespace.sarimax import SARIMAX\n",
    "from statsmodels.tsa.stattools import adfuller\n",
    "from statsmodels.graphics.tsaplots import plot_acf, plot_pacf\n",
    "pd.plotting.register_matplotlib_converters()\n",
    "from scipy.stats import boxcox\n",
    "import yfinance as yf\n",
    "yf.pdr_override()\n",
    "pd.core.common.is_list_like = pd.api.types.is_list_like\n",
    "from pandas_datareader import data as pdr\n",
    "\n",
    "warnings.filterwarnings(\"ignore\")\n",
    "\n",
    "def mean_square_error(y_true, y_pred): \n",
    "    y_true, y_pred = np.array(y_true), np.array(y_pred)\n",
    "    return np.mean(np.abs((y_true - y_pred) / y_true)) * 100"
   ]
  },
  {
   "cell_type": "code",
   "execution_count": null,
   "metadata": {},
   "outputs": [],
   "source": [
    "#Activo a analizar\n",
    "assets = [\"AMZN\"]\n",
    "start_date = \"2019-01-01\"\n",
    "end_date = \"2021-01-01\""
   ]
  },
  {
   "cell_type": "code",
   "execution_count": null,
   "metadata": {},
   "outputs": [],
   "source": [
    "#Creación de DataFrame\n",
    "df=pd.DataFrame()\n",
    "for asset in assets:\n",
    "    df_asset = pdr.get_data_yahoo(asset, start=start_date, end=end_date)[\"Adj Close\"]#El activo se conecta a Yahoo y hace lectura\n",
    "    df_asset = df_asset.to_frame(name=asset) #Descarga la información\n",
    "    df = pd.concat([df, df_asset], axis=1, sort=False) #al data frame se le agrega el nuevo activo"
   ]
  },
  {
   "cell_type": "code",
   "execution_count": null,
   "metadata": {},
   "outputs": [],
   "source": [
    "df.head()"
   ]
  },
  {
   "cell_type": "code",
   "execution_count": null,
   "metadata": {},
   "outputs": [],
   "source": [
    "df.reset_index(inplace = True)\n",
    "df.rename(columns = {'index': 'date', 'Date':'date', 'AMZN':'close'}, inplace = True)\n",
    "df.head()"
   ]
  },
  {
   "cell_type": "code",
   "execution_count": null,
   "metadata": {},
   "outputs": [],
   "source": [
    "#Visualización\n",
    "plt.figure(figsize=(10,5)) \n",
    "plt.plot(df['date'], df['close'])\n",
    "plt.title(\"Precio de cierre de AMZN. \")\n",
    "plt.ylabel(\"Precio\")\n",
    "plt.xlabel(\"Fecha\")\n",
    "plt.savefig(\"img/Precio AMZN.jpg\")\n",
    "plt.show()"
   ]
  },
  {
   "cell_type": "markdown",
   "metadata": {},
   "source": [
    "Con el modelo **AR** se tomará el valor del día anterior para predecir el valor del día siguiente.\n",
    "\n",
    "¿Cómo se hace?"
   ]
  },
  {
   "cell_type": "code",
   "execution_count": null,
   "metadata": {},
   "outputs": [],
   "source": [
    "new = []\n",
    "for i in df.index:\n",
    "    if i < 1:\n",
    "        new.append(np.nan)\n",
    "    else:\n",
    "        new.append(df.loc[i - 1, 'close'])"
   ]
  },
  {
   "cell_type": "code",
   "execution_count": null,
   "metadata": {},
   "outputs": [],
   "source": [
    "df['close_1'] = new"
   ]
  },
  {
   "cell_type": "code",
   "execution_count": null,
   "metadata": {},
   "outputs": [],
   "source": [
    "df.head()\n",
    "# El valor del día anterior en columna nueva"
   ]
  },
  {
   "cell_type": "code",
   "execution_count": null,
   "metadata": {},
   "outputs": [],
   "source": [
    "df.drop(columns = \"close_1\", inplace = True)"
   ]
  },
  {
   "cell_type": "code",
   "execution_count": null,
   "metadata": {},
   "outputs": [],
   "source": [
    "shifted_df = pd.concat([df, \n",
    "                        df['close'].shift(), \n",
    "                        df['close'].shift(2), \n",
    "                        df['close'].shift(3)],axis=1)\n",
    "\n",
    "shifted_df.columns = ['date', 'close', 'close_1', 'close_2', 'close_3']"
   ]
  },
  {
   "cell_type": "code",
   "execution_count": null,
   "metadata": {},
   "outputs": [],
   "source": [
    "shifted_df.head()\n",
    "# Con shift se toman valores anteriores"
   ]
  },
  {
   "cell_type": "code",
   "execution_count": null,
   "metadata": {},
   "outputs": [],
   "source": [
    "shifted_df.dropna(axis = 0, inplace = True)"
   ]
  },
  {
   "cell_type": "markdown",
   "metadata": {},
   "source": [
    "Aplicando un modelo de Regresión Lineal con las variables nuevas se puede predecir la variable en cuestión. (Predecir 'close' con 'close_1' y 'close_2')"
   ]
  },
  {
   "cell_type": "code",
   "execution_count": null,
   "metadata": {},
   "outputs": [],
   "source": [
    "test_sample = 50 #Muestra de prueba\n",
    "train_df = shifted_df.iloc[:(shifted_df.shape[0] - test_sample),:] #Set de entrenamiento\n",
    "test_df = shifted_df.iloc[(shifted_df.shape[0] - test_sample):,:] #Set de prueba"
   ]
  },
  {
   "cell_type": "code",
   "execution_count": null,
   "metadata": {},
   "outputs": [],
   "source": [
    "print(train_df.shape, test_df.shape, shifted_df.shape) #Dimensiones de sets"
   ]
  },
  {
   "cell_type": "code",
   "execution_count": null,
   "metadata": {},
   "outputs": [],
   "source": [
    "#Primero tenemos que convertir los datos a una x equivalente.\n",
    "dummy = np.linspace(0,shifted_df.shape[0] - 1, shifted_df.shape[0]).reshape(-1,1)\n",
    "dummy2 = np.linspace(0,train_df.shape[0] - 1, train_df.shape[0]).reshape(-1,1)\n",
    "\n",
    "#Entrenamiento del modelo\n",
    "reg = LinearRegression().fit(train_df[['close_1', 'close_2']], train_df['close']) #Predecir la Y con las X's "
   ]
  },
  {
   "cell_type": "code",
   "execution_count": null,
   "metadata": {},
   "outputs": [],
   "source": [
    "dummy3 = np.linspace(train_df.shape[0] - 1, df.shape[0] - 1, test_df.shape[0]).reshape(-1,1)\n",
    "test_results = reg.predict(test_df[['close_1', 'close_2']])"
   ]
  },
  {
   "cell_type": "code",
   "execution_count": null,
   "metadata": {},
   "outputs": [],
   "source": [
    "results2 = reg.predict(shifted_df[['close_1', 'close_2']])\n",
    "#plt.plot(train_df['date'],train_df['close'])\n",
    "plt.figure(figsize=(10,5)) \n",
    "plt.plot(shifted_df['date'], shifted_df['close'], label = 'Datos')\n",
    "plt.plot(shifted_df['date'], results2, label = 'Modelo')\n",
    "plt.title('Predicciones modelo AR(2)')\n",
    "plt.ylabel('Precio de la Acción (USD)')\n",
    "plt.xlabel(\"Fecha\")\n",
    "plt.legend()\n",
    "plt.savefig(\"img/Predicciones AR.jpg\")\n",
    "plt.show()"
   ]
  },
  {
   "cell_type": "code",
   "execution_count": null,
   "metadata": {},
   "outputs": [],
   "source": [
    "#Cálculo de score\n",
    "reg.score(test_df[['close_1', 'close_2']], test_df['close'])"
   ]
  },
  {
   "cell_type": "code",
   "execution_count": null,
   "metadata": {},
   "outputs": [],
   "source": [
    "results2 = reg.predict(shifted_df[['close_1', 'close_2']])\n",
    "#plt.plot(train_df['date'],train_df['open'])\n",
    "plt.plot(test_df['date'], test_df['close'], label = 'Set de Prueba')\n",
    "plt.plot(test_df['date'], test_results, label = 'Predicciones')\n",
    "plt.title('Predicciones modelo AR(2)')\n",
    "plt.ylabel('Precio de la Acción (USD)')\n",
    "plt.xlabel(\"Fecha\")\n",
    "plt.legend()\n",
    "plt.show()"
   ]
  },
  {
   "cell_type": "markdown",
   "metadata": {},
   "source": [
    "El modelo se ajusta casi perfecto al set... ¿Por qué?"
   ]
  },
  {
   "cell_type": "markdown",
   "metadata": {},
   "source": [
    "Puede parecer que este modelo es prácticamente perfecto, ya que puede predecir de forma casi impecable el set de entrenamiento, al evaluar los puntos en la regresión, se observa que hay una coincidencia muy grande entre los datos, por lo que se podría concluir que este modelo es significativamente superior al modelo de regresión lineal simple.\n",
    "\n",
    "### Sesgo \"Forward Bias\"\n",
    "\n",
    "Esto no refleja el verdadero resultado del modelo y no representa una verdadera predicción de valores futuros, debido a un sesgo llamado \"sesgo del futuro\" en el cuál, se utilizan datos que no están disponibles en su momento para realizar predicciones (El modelo es bueno porque se utilizan 'Datos del futuro').\n"
   ]
  },
  {
   "cell_type": "code",
   "execution_count": null,
   "metadata": {},
   "outputs": [],
   "source": [
    "#Últimos valores del set de entrenamiento\n",
    "train_df.tail()"
   ]
  },
  {
   "cell_type": "markdown",
   "metadata": {},
   "source": [
    "Se entrena el modelo hasta la semana del 20 de octubre del 2020; por lo tanto, para el modelo y la perspectiva de entrenamiento, se puede decir esta es la fecha del dia de hoy, por lo que los valores del set de prueba se desconocen.\n",
    "\n",
    "En este caso no se podría realizar una predicción a los datos del set de prueba por que no existen, no se tienen en el momento, por lo que no se puede realizar esa evaluación.\n",
    "\n",
    "**¿Es posible predecir valores a futuro sin conocer el set de prueba?**"
   ]
  },
  {
   "cell_type": "code",
   "execution_count": null,
   "metadata": {},
   "outputs": [],
   "source": [
    "#Primeros valores de set de prueba\n",
    "test_df.head()"
   ]
  },
  {
   "cell_type": "markdown",
   "metadata": {},
   "source": [
    "Si: El último valor del set de entrenamiento se convierte en el primer retraso y el penúltimo valor se convierte en el segundo retraso, con estos datos es posible predecir un valor a futuro."
   ]
  },
  {
   "cell_type": "markdown",
   "metadata": {},
   "source": [
    "Una vez que tenemos el primer valor a futuro, este se convierte en el primer retraso y el último del set de entrenamiento se convierte en el segundo retraso.\n",
    "\n",
    "\\begin{align}\n",
    "y(t+1) = a_0 + a_1 y(t) + a_2y(t-1) \\\\\n",
    "y(t+2) = a_0 + a_1 y(t+1) + a_2 y(t)\n",
    "\\end{align}\n",
    "\n",
    "A este proceso se le llama \"one-step forward forecasting\", ya que va realizando el ajuste un paso a la vez y esto permite una generación de lo que podría ser el valor futuro de nuestros datos, cabe recalcar que debido a la naturaleza estocastica de las variables y la dependencia con respecto a pocos términos atrasados, no se recomienda realizar predicciones para periodos muy largos de tiempo."
   ]
  },
  {
   "cell_type": "markdown",
   "metadata": {},
   "source": [
    "| date | close | close_1 | close_2 |\n",
    "| --------- | --------- | --------- | --------- |\n",
    "| 2020 - 03 - 18 | 147 | 138 | 125 |\n",
    "| 2020 - 03 - 19 | 148 | 147 | 138 |\n",
    "| 2020 - 03 - 20 | 150 | 148 | 147 |"
   ]
  },
  {
   "cell_type": "code",
   "execution_count": null,
   "metadata": {},
   "outputs": [],
   "source": [
    "lag_1 = test_df['close_1'][test_df.index[0]]\n",
    "lag_2 = test_df['close_2'][test_df.index[0]]\n",
    "forecast = []\n",
    "for i in test_df.index:\n",
    "    val = reg.predict(np.array([lag_1, lag_2]).reshape(1,-1))\n",
    "    forecast.append(val)\n",
    "    lag_2 = lag_1\n",
    "    lag_1 = val"
   ]
  },
  {
   "cell_type": "code",
   "execution_count": null,
   "metadata": {},
   "outputs": [],
   "source": [
    "reg.score(test_df[['close_1', 'close_2']], forecast )"
   ]
  },
  {
   "cell_type": "code",
   "execution_count": null,
   "metadata": {},
   "outputs": [],
   "source": [
    "plt.plot(dummy3, test_df['close'], label = \"Datos de Prueba\" )\n",
    "plt.plot(dummy3, forecast, label = 'Forecast')\n",
    "plt.xlabel(\"Observación\")\n",
    "plt.ylabel(\"Precio de Acción (USD)\")\n",
    "plt.legend()\n",
    "plt.title('Forecast modelo AR(2)')\n",
    "plt.show()"
   ]
  },
  {
   "cell_type": "code",
   "execution_count": null,
   "metadata": {},
   "outputs": [],
   "source": [
    "plt.plot(dummy3, test_df['close'], label = \"Datos de Prueba\" )\n",
    "plt.plot(dummy3, forecast, label = 'Forecast')\n",
    "plt.xlabel(\"Observación\")\n",
    "plt.ylabel(\"Precio de Acción (USD)\")\n",
    "plt.legend()\n",
    "plt.title('Forecast modelo AR(2)')\n",
    "plt.show()"
   ]
  },
  {
   "cell_type": "code",
   "execution_count": null,
   "metadata": {},
   "outputs": [],
   "source": [
    "plt.plot(dummy3, test_df['close'], label = \"Datos de Prueba\" )\n",
    "plt.plot(dummy3, forecast, label = 'Forecast')\n",
    "plt.xlabel(\"Observación\")\n",
    "plt.ylabel(\"Precio de Acción (USD)\")\n",
    "plt.legend()\n",
    "plt.title('Forecast modelo AR(2)')\n",
    "plt.show()"
   ]
  },
  {
   "cell_type": "code",
   "execution_count": null,
   "metadata": {},
   "outputs": [],
   "source": [
    "plt.plot(dummy3, test_df['close'], label = \"Datos de Prueba\" )\n",
    "plt.plot(dummy3, forecast, label = 'Forecast')\n",
    "plt.xlabel(\"Observación\")\n",
    "plt.ylabel(\"Precio de Acción (USD)\")\n",
    "plt.legend()\n",
    "plt.title('Forecast modelo AR(2)')\n",
    "plt.show()"
   ]
  },
  {
   "cell_type": "code",
   "execution_count": null,
   "metadata": {},
   "outputs": [],
   "source": [
    "plt.plot(dummy3, test_df['close'], label = \"Datos de Prueba\" )\n",
    "plt.plot(dummy3, forecast, label = 'Forecast')\n",
    "plt.xlabel(\"Observación\")\n",
    "plt.ylabel(\"Precio de Acción (USD)\")\n",
    "plt.legend()\n",
    "plt.title('Forecast modelo AR(2)')\n",
    "plt.show()"
   ]
  },
  {
   "cell_type": "markdown",
   "metadata": {},
   "source": [
    "### ¿Que podemos concluir de este modelo?\n",
    "\n",
    "- 1. La predicción final es muy sensible al punto de corte del set de entrenamiento.\n",
    "- 2. La predicción final suele ser precisa a corto plazo.\n",
    "- 3. Al ir actualizando el modelo, la predicción se adapta a los cambios, lo cual lo vuelve muy dinámico.\n",
    "\n",
    "Este modelo es una mejora considerable comparada con los modelos previamente utilizados; por lo tanto, podemos concluir que la decisión de aplicar un modelo autoregresivo en nuestros datos es la correcta ya que aproxima el comportamiento del set de prueba.\n",
    "\n",
    "¿Este es el mejor modelo que podemos crear? Quizá no.\n",
    "\n",
    "- 1. Se seleccionó de forma muy arbitraria el uso de 2 valores previos para la predicción del valor futuro.\n",
    "- 2. Hay otro tipo de modelos que se pueden utilizar en la predicción de los datos futuros.\n",
    "- 3. Hay una metodología establecida para encontrar el mejor modelo para una serie temporal."
   ]
  },
  {
   "cell_type": "code",
   "execution_count": null,
   "metadata": {},
   "outputs": [],
   "source": []
  }
 ],
 "metadata": {
  "kernelspec": {
   "display_name": "Python 3",
   "language": "python",
   "name": "python3"
  },
  "language_info": {
   "codemirror_mode": {
    "name": "ipython",
    "version": 3
   },
   "file_extension": ".py",
   "mimetype": "text/x-python",
   "name": "python",
   "nbconvert_exporter": "python",
   "pygments_lexer": "ipython3",
   "version": "3.8.5"
  }
 },
 "nbformat": 4,
 "nbformat_minor": 4
}
